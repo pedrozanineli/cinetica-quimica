{
 "cells": [
  {
   "cell_type": "code",
   "execution_count": 1,
   "id": "71075783-79cf-449d-8058-055d0aa91bb4",
   "metadata": {},
   "outputs": [],
   "source": [
    "import numpy as np\n",
    "import matplotlib.pyplot as plt\n",
    "from modules.simulation import Simulation"
   ]
  },
  {
   "cell_type": "markdown",
   "id": "f756c6d8-281a-4fdc-b107-32931f41bc9f",
   "metadata": {},
   "source": [
    "### Simulação"
   ]
  },
  {
   "cell_type": "code",
   "execution_count": 2,
   "id": "ce71ea69-02eb-414e-a613-83c549f09a9a",
   "metadata": {},
   "outputs": [],
   "source": [
    "# nparticles = 50\n",
    "# radii = np.ones(nparticles)*0.01\n",
    "\n",
    "# styles = {'linewidth': .1, 'fill': None}\n",
    "# sim = Simulation(nparticles, radii, styles, prob = 0.9)"
   ]
  },
  {
   "cell_type": "code",
   "execution_count": 3,
   "id": "71ab560b-6c0a-408d-8ddb-b816336cebaf",
   "metadata": {
    "tags": []
   },
   "outputs": [],
   "source": [
    "# sim.run(frames=50,display_gif=False)"
   ]
  },
  {
   "cell_type": "markdown",
   "id": "ed429cef-1c32-45a5-9df1-d1036d0386c6",
   "metadata": {},
   "source": [
    "### Análise $k$"
   ]
  },
  {
   "cell_type": "code",
   "execution_count": 4,
   "id": "24ef4baa-4b87-4d98-83c9-b96f5a6bd3c5",
   "metadata": {},
   "outputs": [],
   "source": [
    "nparticles = 100\n",
    "radii = np.ones(nparticles)*0.01\n",
    "styles = {'linewidth': .1, 'fill': None}"
   ]
  },
  {
   "cell_type": "code",
   "execution_count": 5,
   "id": "0f0a0b6c-2960-45ca-9a6c-0f7245789eb3",
   "metadata": {},
   "outputs": [
    {
     "name": "stderr",
     "output_type": "stream",
     "text": [
      "100%|████████████████████████████████████████████████████████████████████████████████████████████| 100/100 [02:08<00:00,  1.28s/it]\n",
      "100%|████████████████████████████████████████████████████████████████████████████████████████████| 100/100 [02:05<00:00,  1.26s/it]\n",
      "100%|████████████████████████████████████████████████████████████████████████████████████████████| 100/100 [02:03<00:00,  1.23s/it]\n",
      "100%|████████████████████████████████████████████████████████████████████████████████████████████| 100/100 [01:31<00:00,  1.10it/s]\n",
      "100%|████████████████████████████████████████████████████████████████████████████████████████████| 100/100 [01:05<00:00,  1.52it/s]\n",
      "100%|████████████████████████████████████████████████████████████████████████████████████████████| 100/100 [01:03<00:00,  1.57it/s]\n",
      "100%|████████████████████████████████████████████████████████████████████████████████████████████| 100/100 [00:59<00:00,  1.67it/s]\n",
      "100%|████████████████████████████████████████████████████████████████████████████████████████████| 100/100 [01:01<00:00,  1.63it/s]\n",
      "100%|████████████████████████████████████████████████████████████████████████████████████████████| 100/100 [00:58<00:00,  1.71it/s]\n",
      "100%|████████████████████████████████████████████████████████████████████████████████████████████| 100/100 [01:01<00:00,  1.62it/s]\n"
     ]
    }
   ],
   "source": [
    "probs = [0,.1,.2,.3,.4,.5,.6,.7,.8,1]\n",
    "k_list = []\n",
    "\n",
    "for p in probs:\n",
    "    \n",
    "    sim = Simulation(nparticles, radii, styles, prob = p)\n",
    "    k = sim.run(frames=100,display_gif=False,display_fit=False,save_gif=False)\n",
    "    k_list.append(k)"
   ]
  },
  {
   "cell_type": "code",
   "execution_count": 14,
   "id": "e5795c68-9cd3-4136-aa0c-34cae8a31f52",
   "metadata": {},
   "outputs": [
    {
     "data": {
      "text/plain": [
       "<matplotlib.collections.PathCollection at 0x245177a3f70>"
      ]
     },
     "execution_count": 14,
     "metadata": {},
     "output_type": "execute_result"
    },
    {
     "data": {
      "image/png": "[encoded data removed]",
      "text/plain": [
       "<Figure size 640x480 with 1 Axes>"
      ]
     },
     "metadata": {},
     "output_type": "display_data"
    }
   ],
   "source": [
    "plt.scatter(probs,k_list)\n",
    "plt.xlabel('Prob reação'),plt.ylabel('Coeficiente k')"
   ]
  },
  {
   "cell_type": "code",
   "execution_count": null,
   "id": "c64869e8-1c78-4e45-a984-451f6d14deaf",
   "metadata": {},
   "outputs": [],
   "source": []
  }
 ],
 "metadata": {
  "kernelspec": {
   "display_name": "ilumpy",
   "language": "python",
   "name": "ilumpy"
  },
  "language_info": {
   "codemirror_mode": {
    "name": "ipython",
    "version": 3
   },
   "file_extension": ".py",
   "mimetype": "text/x-python",
   "name": "python",
   "nbconvert_exporter": "python",
   "pygments_lexer": "ipython3",
   "version": "3.10.8"
  }
 },
 "nbformat": 4,
 "nbformat_minor": 5
}
