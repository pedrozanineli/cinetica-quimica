{
 "cells": [
  {
   "cell_type": "code",
   "execution_count": 2,
   "id": "71075783-79cf-449d-8058-055d0aa91bb4",
   "metadata": {},
   "outputs": [],
   "source": [
    "import numpy as np\n",
    "import matplotlib.pyplot as plt\n",
    "from modules.simulation import Simulation\n",
    "from sklearn.linear_model import LinearRegression"
   ]
  },
  {
   "cell_type": "markdown",
   "id": "f756c6d8-281a-4fdc-b107-32931f41bc9f",
   "metadata": {},
   "source": [
    "### Simulação"
   ]
  },
  {
   "cell_type": "code",
   "execution_count": 3,
   "id": "ce71ea69-02eb-414e-a613-83c549f09a9a",
   "metadata": {},
   "outputs": [],
   "source": [
    "# nparticles = 50\n",
    "# radii = np.ones(nparticles)*0.01\n",
    "\n",
    "# styles = {'linewidth': .1, 'fill': None}\n",
    "# sim = Simulation(nparticles, radii, styles, prob = 0.9)"
   ]
  },
  {
   "cell_type": "code",
   "execution_count": 4,
   "id": "71ab560b-6c0a-408d-8ddb-b816336cebaf",
   "metadata": {
    "tags": []
   },
   "outputs": [],
   "source": [
    "# sim.run(frames=50,display_gif=False)"
   ]
  },
  {
   "cell_type": "markdown",
   "id": "ed429cef-1c32-45a5-9df1-d1036d0386c6",
   "metadata": {},
   "source": [
    "### Análise $k$"
   ]
  },
  {
   "cell_type": "code",
   "execution_count": 5,
   "id": "24ef4baa-4b87-4d98-83c9-b96f5a6bd3c5",
   "metadata": {},
   "outputs": [],
   "source": [
    "nparticles = 100\n",
    "radii = np.ones(nparticles)*0.01\n",
    "styles = {'linewidth': .1, 'fill': None}"
   ]
  },
  {
   "cell_type": "code",
   "execution_count": 6,
   "id": "0f0a0b6c-2960-45ca-9a6c-0f7245789eb3",
   "metadata": {},
   "outputs": [
    {
     "name": "stderr",
     "output_type": "stream",
     "text": [
      "100%|██████████████████████████████████████████████████████████████████████████████████████████████| 30/30 [00:20<00:00,  1.49it/s]\n",
      "100%|██████████████████████████████████████████████████████████████████████████████████████████████| 30/30 [00:19<00:00,  1.57it/s]\n",
      "100%|██████████████████████████████████████████████████████████████████████████████████████████████| 30/30 [00:18<00:00,  1.64it/s]\n",
      "100%|██████████████████████████████████████████████████████████████████████████████████████████████| 30/30 [00:20<00:00,  1.49it/s]\n",
      "100%|██████████████████████████████████████████████████████████████████████████████████████████████| 30/30 [00:18<00:00,  1.60it/s]\n",
      "100%|██████████████████████████████████████████████████████████████████████████████████████████████| 30/30 [00:19<00:00,  1.53it/s]\n",
      "100%|██████████████████████████████████████████████████████████████████████████████████████████████| 30/30 [00:17<00:00,  1.74it/s]\n",
      "100%|██████████████████████████████████████████████████████████████████████████████████████████████| 30/30 [00:19<00:00,  1.56it/s]\n",
      "100%|██████████████████████████████████████████████████████████████████████████████████████████████| 30/30 [00:19<00:00,  1.57it/s]\n",
      "100%|██████████████████████████████████████████████████████████████████████████████████████████████| 30/30 [00:21<00:00,  1.41it/s]\n"
     ]
    }
   ],
   "source": [
    "probs = [0,.1,.2,.3,.4,.5,.6,.7,.8,1]\n",
    "k_list = []\n",
    "\n",
    "for p in probs:\n",
    "    \n",
    "    sim = Simulation(nparticles, radii, styles, prob = p)\n",
    "    k = sim.run(frames=30,display_gif=False,display_fit=False,save_gif=False)\n",
    "    k_list.append(k)"
   ]
  },
  {
   "cell_type": "code",
   "execution_count": 9,
   "id": "f9f8d4c9-e27d-41f3-9755-7d4670a14e75",
   "metadata": {},
   "outputs": [],
   "source": [
    "# X, y = np.array(probs[1:]).reshape(-1, 1), np.array(k_list[1:])\n",
    "X, y = np.array(probs).reshape(-1, 1), np.array(k_list)\n",
    "\n",
    "model = LinearRegression()\n",
    "model.fit(X,y)\n",
    "\n",
    "slope = model.coef_[0]\n",
    "intercept = model.intercept_"
   ]
  },
  {
   "cell_type": "code",
   "execution_count": 10,
   "id": "e5795c68-9cd3-4136-aa0c-34cae8a31f52",
   "metadata": {},
   "outputs": [
    {
     "data": {
      "image/png": "[encoded data removed]",
      "text/plain": [
       "<Figure size 640x480 with 1 Axes>"
      ]
     },
     "metadata": {},
     "output_type": "display_data"
    }
   ],
   "source": [
    "X = np.linspace(X[0],X[-1] )\n",
    "plt.plot(X, model.predict(X))\n",
    "\n",
    "plt.scatter(probs[:],k_list[:])\n",
    "plt.xlabel('Probabilidade de reação'),plt.ylabel('Coeficiente k')\n",
    "plt.grid()"
   ]
  },
  {
   "cell_type": "code",
   "execution_count": null,
   "id": "c5e00eed-89cc-4f8c-9df8-d634637ad6d0",
   "metadata": {},
   "outputs": [],
   "source": []
  }
 ],
 "metadata": {
  "kernelspec": {
   "display_name": "ilumpy",
   "language": "python",
   "name": "ilumpy"
  },
  "language_info": {
   "codemirror_mode": {
    "name": "ipython",
    "version": 3
   },
   "file_extension": ".py",
   "mimetype": "text/x-python",
   "name": "python",
   "nbconvert_exporter": "python",
   "pygments_lexer": "ipython3",
   "version": "3.10.8"
  }
 },
 "nbformat": 4,
 "nbformat_minor": 5
}
